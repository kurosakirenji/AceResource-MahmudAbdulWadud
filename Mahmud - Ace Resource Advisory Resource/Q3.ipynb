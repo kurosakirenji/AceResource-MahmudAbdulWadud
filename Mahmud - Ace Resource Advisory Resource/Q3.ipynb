{
 "cells": [
  {
   "cell_type": "code",
   "execution_count": 1,
   "metadata": {},
   "outputs": [
    {
     "name": "stdout",
     "output_type": "stream",
     "text": [
      "Defaulting to user installation because normal site-packages is not writeable\n",
      "Requirement already satisfied: nltk in c:\\program files\\anaconda3\\lib\\site-packages (3.4.5)\n",
      "Requirement already satisfied: six in c:\\users\\pe70 6qe\\appdata\\roaming\\python\\python37\\site-packages (from nltk) (1.15.0)\n"
     ]
    },
    {
     "name": "stderr",
     "output_type": "stream",
     "text": [
      "WARNING: You are using pip version 21.1.3; however, version 21.2.4 is available.\n",
      "You should consider upgrading via the 'C:\\Program Files\\Anaconda3\\python.exe -m pip install --upgrade pip' command.\n"
     ]
    }
   ],
   "source": [
    "!pip install nltk"
   ]
  },
  {
   "cell_type": "code",
   "execution_count": 2,
   "metadata": {},
   "outputs": [
    {
     "name": "stdout",
     "output_type": "stream",
     "text": [
      "Defaulting to user installation because normal site-packages is not writeable\n",
      "Requirement already satisfied: python-docx in c:\\users\\pe70 6qe\\appdata\\roaming\\python\\python37\\site-packages (0.8.11)\n",
      "Requirement already satisfied: lxml>=2.3.2 in c:\\program files\\anaconda3\\lib\\site-packages (from python-docx) (4.5.0)\n"
     ]
    },
    {
     "name": "stderr",
     "output_type": "stream",
     "text": [
      "WARNING: You are using pip version 21.1.3; however, version 21.2.4 is available.\n",
      "You should consider upgrading via the 'C:\\Program Files\\Anaconda3\\python.exe -m pip install --upgrade pip' command.\n"
     ]
    }
   ],
   "source": [
    "!pip install python-docx"
   ]
  },
  {
   "cell_type": "code",
   "execution_count": 23,
   "metadata": {},
   "outputs": [
    {
     "name": "stdout",
     "output_type": "stream",
     "text": [
      "showing info https://raw.githubusercontent.com/nltk/nltk_data/gh-pages/index.xml\n"
     ]
    },
    {
     "data": {
      "text/plain": [
       "True"
      ]
     },
     "execution_count": 23,
     "metadata": {},
     "output_type": "execute_result"
    }
   ],
   "source": [
    "import nltk  \n",
    "nltk.download()"
   ]
  },
  {
   "cell_type": "code",
   "execution_count": 24,
   "metadata": {},
   "outputs": [
    {
     "data": {
      "text/plain": [
       "'C:\\\\Program Files\\\\Anaconda3\\\\lib\\\\site-packages\\\\nltk\\\\__init__.py'"
      ]
     },
     "execution_count": 24,
     "metadata": {},
     "output_type": "execute_result"
    }
   ],
   "source": [
    "nltk.__file__"
   ]
  },
  {
   "cell_type": "code",
   "execution_count": 25,
   "metadata": {},
   "outputs": [
    {
     "name": "stdout",
     "output_type": "stream",
     "text": [
      "['As a term, data analytics predominantly refers to an assortment of applications, from basic \\nbusiness intelligence (BI), reporting and online analytical processing (OLAP) to various forms of advanced \\nanalytics.', \"In that sense, it's similar in nature to business analytics, another umbrella term for \\napproaches to analyzing data -- with the difference that the latter is oriented to business uses, while \\ndata analytics has a broader focus.\", \"The expansive view of the term isn't universal, though: In some \\ncases, people use data analytics specifically to mean advanced analytics, treating BI as a separate \\ncategory.\", 'Data analytics initiatives can help businesses increase revenues, improve operational \\nefficiency, optimize marketing campaigns and customer service efforts, respond more quickly to \\nemerging market trends and gain a competitive edge over rivals -- all with the ultimate goal of \\nboosting business performance.', \"Depending on the particular application, the data that's analyzed \\ncan consist of either historical records or new information that has been processed for real-time \\nanalytics uses.\", 'In addition, it can come from a mix of internal systems and external data sources.', 'At \\na high level, data analytics methodologies include exploratory data analysis (EDA), which aims to find \\npatterns and relationships in data, and confirmatory data analysis (CDA), which applies statistical \\ntechniques to determine whether hypotheses about a data set are true or false.', 'EDA is often \\ncompared to detective work, while CDA is akin to the work of a judge or jury during a court trial -- a \\ndistinction first drawn by statistician John W. Tukey in his 1977 book Exploratory Data Analysis.', 'Data analytics can also be separated into quantitative data analysis and qualitative data analysis.', 'The former involves analysis of numerical data with quantifiable variables that can be compared or \\nmeasured statistically.', 'The qualitative approach is more interpretive -- it focuses on understanding \\nthe content of non-numerical data like text, images, audio and video, including common phrases, \\nthemes and points of view.']\n",
      "\n",
      "['As', 'a', 'term', ',', 'data', 'analytics', 'predominantly', 'refers', 'to', 'an', 'assortment', 'of', 'applications', ',', 'from', 'basic', 'business', 'intelligence', '(', 'BI', ')', ',', 'reporting', 'and', 'online', 'analytical', 'processing', '(', 'OLAP', ')', 'to', 'various', 'forms', 'of', 'advanced', 'analytics', '.', 'In', 'that', 'sense', ',', 'it', \"'s\", 'similar', 'in', 'nature', 'to', 'business', 'analytics', ',', 'another', 'umbrella', 'term', 'for', 'approaches', 'to', 'analyzing', 'data', '--', 'with', 'the', 'difference', 'that', 'the', 'latter', 'is', 'oriented', 'to', 'business', 'uses', ',', 'while', 'data', 'analytics', 'has', 'a', 'broader', 'focus', '.', 'The', 'expansive', 'view', 'of', 'the', 'term', 'is', \"n't\", 'universal', ',', 'though', ':', 'In', 'some', 'cases', ',', 'people', 'use', 'data', 'analytics', 'specifically', 'to', 'mean', 'advanced', 'analytics', ',', 'treating', 'BI', 'as', 'a', 'separate', 'category', '.', 'Data', 'analytics', 'initiatives', 'can', 'help', 'businesses', 'increase', 'revenues', ',', 'improve', 'operational', 'efficiency', ',', 'optimize', 'marketing', 'campaigns', 'and', 'customer', 'service', 'efforts', ',', 'respond', 'more', 'quickly', 'to', 'emerging', 'market', 'trends', 'and', 'gain', 'a', 'competitive', 'edge', 'over', 'rivals', '--', 'all', 'with', 'the', 'ultimate', 'goal', 'of', 'boosting', 'business', 'performance', '.', 'Depending', 'on', 'the', 'particular', 'application', ',', 'the', 'data', 'that', \"'s\", 'analyzed', 'can', 'consist', 'of', 'either', 'historical', 'records', 'or', 'new', 'information', 'that', 'has', 'been', 'processed', 'for', 'real-time', 'analytics', 'uses', '.', 'In', 'addition', ',', 'it', 'can', 'come', 'from', 'a', 'mix', 'of', 'internal', 'systems', 'and', 'external', 'data', 'sources', '.', 'At', 'a', 'high', 'level', ',', 'data', 'analytics', 'methodologies', 'include', 'exploratory', 'data', 'analysis', '(', 'EDA', ')', ',', 'which', 'aims', 'to', 'find', 'patterns', 'and', 'relationships', 'in', 'data', ',', 'and', 'confirmatory', 'data', 'analysis', '(', 'CDA', ')', ',', 'which', 'applies', 'statistical', 'techniques', 'to', 'determine', 'whether', 'hypotheses', 'about', 'a', 'data', 'set', 'are', 'true', 'or', 'false', '.', 'EDA', 'is', 'often', 'compared', 'to', 'detective', 'work', ',', 'while', 'CDA', 'is', 'akin', 'to', 'the', 'work', 'of', 'a', 'judge', 'or', 'jury', 'during', 'a', 'court', 'trial', '--', 'a', 'distinction', 'first', 'drawn', 'by', 'statistician', 'John', 'W.', 'Tukey', 'in', 'his', '1977', 'book', 'Exploratory', 'Data', 'Analysis', '.', 'Data', 'analytics', 'can', 'also', 'be', 'separated', 'into', 'quantitative', 'data', 'analysis', 'and', 'qualitative', 'data', 'analysis', '.', 'The', 'former', 'involves', 'analysis', 'of', 'numerical', 'data', 'with', 'quantifiable', 'variables', 'that', 'can', 'be', 'compared', 'or', 'measured', 'statistically', '.', 'The', 'qualitative', 'approach', 'is', 'more', 'interpretive', '--', 'it', 'focuses', 'on', 'understanding', 'the', 'content', 'of', 'non-numerical', 'data', 'like', 'text', ',', 'images', ',', 'audio', 'and', 'video', ',', 'including', 'common', 'phrases', ',', 'themes', 'and', 'points', 'of', 'view', '.']\n",
      "\n"
     ]
    },
    {
     "data": {
      "text/plain": [
       "365"
      ]
     },
     "execution_count": 25,
     "metadata": {},
     "output_type": "execute_result"
    }
   ],
   "source": [
    "# Read file 'Paragraph.txt' and print words before and after tokenization\n",
    "\n",
    "from nltk.tokenize import sent_tokenize, word_tokenize\n",
    "\n",
    "with open(\"Paragraph.txt\",'r') as stream :\n",
    "    para = stream.read()\n",
    "\n",
    "\n",
    "sen_tokens = sent_tokenize(para)\n",
    "print(sen_tokens)\n",
    "print(\"\")\n",
    "word_tokens = word_tokenize(para)\n",
    "print(word_tokens)\n",
    "print(\"\")\n",
    "len(word_tokens)\n"
   ]
  },
  {
   "cell_type": "code",
   "execution_count": 26,
   "metadata": {},
   "outputs": [
    {
     "data": {
      "text/plain": [
       "{'a',\n",
       " 'about',\n",
       " 'above',\n",
       " 'after',\n",
       " 'again',\n",
       " 'against',\n",
       " 'ain',\n",
       " 'all',\n",
       " 'am',\n",
       " 'an',\n",
       " 'and',\n",
       " 'any',\n",
       " 'are',\n",
       " 'aren',\n",
       " \"aren't\",\n",
       " 'as',\n",
       " 'at',\n",
       " 'be',\n",
       " 'because',\n",
       " 'been',\n",
       " 'before',\n",
       " 'being',\n",
       " 'below',\n",
       " 'between',\n",
       " 'both',\n",
       " 'but',\n",
       " 'by',\n",
       " 'can',\n",
       " 'couldn',\n",
       " \"couldn't\",\n",
       " 'd',\n",
       " 'did',\n",
       " 'didn',\n",
       " \"didn't\",\n",
       " 'do',\n",
       " 'does',\n",
       " 'doesn',\n",
       " \"doesn't\",\n",
       " 'doing',\n",
       " 'don',\n",
       " \"don't\",\n",
       " 'down',\n",
       " 'during',\n",
       " 'each',\n",
       " 'few',\n",
       " 'for',\n",
       " 'from',\n",
       " 'further',\n",
       " 'had',\n",
       " 'hadn',\n",
       " \"hadn't\",\n",
       " 'has',\n",
       " 'hasn',\n",
       " \"hasn't\",\n",
       " 'have',\n",
       " 'haven',\n",
       " \"haven't\",\n",
       " 'having',\n",
       " 'he',\n",
       " 'her',\n",
       " 'here',\n",
       " 'hers',\n",
       " 'herself',\n",
       " 'him',\n",
       " 'himself',\n",
       " 'his',\n",
       " 'how',\n",
       " 'i',\n",
       " 'if',\n",
       " 'in',\n",
       " 'into',\n",
       " 'is',\n",
       " 'isn',\n",
       " \"isn't\",\n",
       " 'it',\n",
       " \"it's\",\n",
       " 'its',\n",
       " 'itself',\n",
       " 'just',\n",
       " 'll',\n",
       " 'm',\n",
       " 'ma',\n",
       " 'me',\n",
       " 'mightn',\n",
       " \"mightn't\",\n",
       " 'more',\n",
       " 'most',\n",
       " 'mustn',\n",
       " \"mustn't\",\n",
       " 'my',\n",
       " 'myself',\n",
       " 'needn',\n",
       " \"needn't\",\n",
       " 'no',\n",
       " 'nor',\n",
       " 'not',\n",
       " 'now',\n",
       " 'o',\n",
       " 'of',\n",
       " 'off',\n",
       " 'on',\n",
       " 'once',\n",
       " 'only',\n",
       " 'or',\n",
       " 'other',\n",
       " 'our',\n",
       " 'ours',\n",
       " 'ourselves',\n",
       " 'out',\n",
       " 'over',\n",
       " 'own',\n",
       " 're',\n",
       " 's',\n",
       " 'same',\n",
       " 'shan',\n",
       " \"shan't\",\n",
       " 'she',\n",
       " \"she's\",\n",
       " 'should',\n",
       " \"should've\",\n",
       " 'shouldn',\n",
       " \"shouldn't\",\n",
       " 'so',\n",
       " 'some',\n",
       " 'such',\n",
       " 't',\n",
       " 'than',\n",
       " 'that',\n",
       " \"that'll\",\n",
       " 'the',\n",
       " 'their',\n",
       " 'theirs',\n",
       " 'them',\n",
       " 'themselves',\n",
       " 'then',\n",
       " 'there',\n",
       " 'these',\n",
       " 'they',\n",
       " 'this',\n",
       " 'those',\n",
       " 'through',\n",
       " 'to',\n",
       " 'too',\n",
       " 'under',\n",
       " 'until',\n",
       " 'up',\n",
       " 've',\n",
       " 'very',\n",
       " 'was',\n",
       " 'wasn',\n",
       " \"wasn't\",\n",
       " 'we',\n",
       " 'were',\n",
       " 'weren',\n",
       " \"weren't\",\n",
       " 'what',\n",
       " 'when',\n",
       " 'where',\n",
       " 'which',\n",
       " 'while',\n",
       " 'who',\n",
       " 'whom',\n",
       " 'why',\n",
       " 'will',\n",
       " 'with',\n",
       " 'won',\n",
       " \"won't\",\n",
       " 'wouldn',\n",
       " \"wouldn't\",\n",
       " 'y',\n",
       " 'you',\n",
       " \"you'd\",\n",
       " \"you'll\",\n",
       " \"you're\",\n",
       " \"you've\",\n",
       " 'your',\n",
       " 'yours',\n",
       " 'yourself',\n",
       " 'yourselves'}"
      ]
     },
     "execution_count": 26,
     "metadata": {},
     "output_type": "execute_result"
    }
   ],
   "source": [
    "# Remove Noises (Stopwords)\n",
    "\n",
    "from nltk.corpus import stopwords\n",
    "\n",
    "stop_words = set(stopwords.words('english'))\n",
    "stop_words"
   ]
  },
  {
   "cell_type": "code",
   "execution_count": 27,
   "metadata": {},
   "outputs": [
    {
     "name": "stdout",
     "output_type": "stream",
     "text": [
      "253\n"
     ]
    }
   ],
   "source": [
    "# Tokenize paragraph into each token/word\n",
    "\n",
    "parag=para.lower()\n",
    "word_tokens = word_tokenize(parag)\n",
    "\n",
    "\n",
    "# Remove Stop Words\n",
    "\n",
    "new_words1 = [w for w in word_tokens if not w in stop_words]\n",
    "new_words1\n",
    "\n",
    "print(len(new_words1))"
   ]
  },
  {
   "cell_type": "code",
   "execution_count": 28,
   "metadata": {},
   "outputs": [
    {
     "name": "stdout",
     "output_type": "stream",
     "text": [
      "['term', 'data', 'analytics', 'predominantly', 'refers', 'assortment', 'applications', 'basic', 'business', 'intelligence', 'bi', 'reporting', 'online', 'analytical', 'processing', 'olap', 'various', 'forms', 'advanced', 'analytics', 'sense', 'similar', 'nature', 'business', 'analytics', 'another', 'umbrella', 'term', 'approaches', 'analyzing', 'data', 'difference', 'latter', 'oriented', 'business', 'uses', 'data', 'analytics', 'broader', 'focus', 'expansive', 'view', 'term', 'universal', 'though', 'cases', 'people', 'use', 'data', 'analytics', 'specifically', 'mean', 'advanced', 'analytics', 'treating', 'bi', 'separate', 'category', 'data', 'analytics', 'initiatives', 'help', 'businesses', 'increase', 'revenues', 'improve', 'operational', 'efficiency', 'optimize', 'marketing', 'campaigns', 'customer', 'service', 'efforts', 'respond', 'quickly', 'emerging', 'market', 'trends', 'gain', 'competitive', 'edge', 'rivals', 'ultimate', 'goal', 'boosting', 'business', 'performance', 'depending', 'particular', 'application', 'data', 'analyzed', 'consist', 'either', 'historical', 'records', 'new', 'information', 'processed', 'analytics', 'uses', 'addition', 'come', 'mix', 'internal', 'systems', 'external', 'data', 'sources', 'high', 'level', 'data', 'analytics', 'methodologies', 'include', 'exploratory', 'data', 'analysis', 'eda', 'aims', 'find', 'patterns', 'relationships', 'data', 'confirmatory', 'data', 'analysis', 'cda', 'applies', 'statistical', 'techniques', 'determine', 'whether', 'hypotheses', 'data', 'set', 'true', 'false', 'eda', 'often', 'compared', 'detective', 'work', 'cda', 'akin', 'work', 'judge', 'jury', 'court', 'trial', 'distinction', 'first', 'drawn', 'statistician', 'john', 'tukey', 'book', 'exploratory', 'data', 'analysis', 'data', 'analytics', 'also', 'separated', 'quantitative', 'data', 'analysis', 'qualitative', 'data', 'analysis', 'former', 'involves', 'analysis', 'numerical', 'data', 'quantifiable', 'variables', 'compared', 'measured', 'statistically', 'qualitative', 'approach', 'interpretive', 'focuses', 'understanding', 'content', 'data', 'like', 'text', 'images', 'audio', 'video', 'including', 'common', 'phrases', 'themes', 'points', 'view']\n"
     ]
    },
    {
     "data": {
      "text/plain": [
       "199"
      ]
     },
     "execution_count": 28,
     "metadata": {},
     "output_type": "execute_result"
    }
   ],
   "source": [
    "# Remove Noise (Punctuation)\n",
    "\n",
    "new_words2 = [w.lower() for w in new_words1 if w.isalpha()] # we use w.lower() to convert text to lowercase\n",
    "print(new_words2)\n",
    "len(new_words2)"
   ]
  },
  {
   "cell_type": "code",
   "execution_count": null,
   "metadata": {},
   "outputs": [],
   "source": []
  },
  {
   "cell_type": "code",
   "execution_count": 29,
   "metadata": {},
   "outputs": [],
   "source": [
    "# Question 3 (A)"
   ]
  },
  {
   "cell_type": "code",
   "execution_count": 30,
   "metadata": {},
   "outputs": [],
   "source": [
    "import re"
   ]
  },
  {
   "cell_type": "code",
   "execution_count": 31,
   "metadata": {},
   "outputs": [
    {
     "name": "stdout",
     "output_type": "stream",
     "text": [
      "18\n"
     ]
    }
   ],
   "source": [
    "data_count = len(re.findall (r'data', parag))\n",
    "\n",
    "print(data_count)"
   ]
  },
  {
   "cell_type": "code",
   "execution_count": 32,
   "metadata": {},
   "outputs": [],
   "source": [
    "line_count=0\n",
    "\n",
    "with open(\"Paragraph.txt\",'r') as stream :\n",
    "    for lines in stream:\n",
    "        line_count+=1"
   ]
  },
  {
   "cell_type": "code",
   "execution_count": 33,
   "metadata": {},
   "outputs": [
    {
     "name": "stdout",
     "output_type": "stream",
     "text": [
      "22\n"
     ]
    }
   ],
   "source": [
    "print(line_count)"
   ]
  },
  {
   "cell_type": "code",
   "execution_count": 34,
   "metadata": {},
   "outputs": [
    {
     "name": "stdout",
     "output_type": "stream",
     "text": [
      "Probability of word 'data' occurs in each line is :-\n",
      "\n",
      "P('data') = 18 / 22 = 0.8181818181818182 \n"
     ]
    }
   ],
   "source": [
    "print(\"Probability of word 'data' occurs in each line is :-\")\n",
    "print(\"\")\n",
    "print(f\"P('data') = {data_count} / {line_count} = {data_count/line_count} \")"
   ]
  },
  {
   "cell_type": "code",
   "execution_count": null,
   "metadata": {},
   "outputs": [],
   "source": []
  },
  {
   "cell_type": "code",
   "execution_count": 35,
   "metadata": {},
   "outputs": [],
   "source": [
    "# Question 3 (B)"
   ]
  },
  {
   "cell_type": "code",
   "execution_count": 36,
   "metadata": {},
   "outputs": [],
   "source": [
    "from nltk.probability import FreqDist"
   ]
  },
  {
   "cell_type": "code",
   "execution_count": 37,
   "metadata": {},
   "outputs": [
    {
     "data": {
      "text/plain": [
       "FreqDist({'data': 18, 'analytics': 10, 'analysis': 6, 'business': 4, 'term': 3, 'bi': 2, 'advanced': 2, 'uses': 2, 'view': 2, 'exploratory': 2, ...})"
      ]
     },
     "execution_count": 37,
     "metadata": {},
     "output_type": "execute_result"
    }
   ],
   "source": [
    "dist = FreqDist(new_words2)\n",
    "dist"
   ]
  },
  {
   "cell_type": "code",
   "execution_count": 38,
   "metadata": {},
   "outputs": [
    {
     "data": {
      "text/plain": [
       "153"
      ]
     },
     "execution_count": 38,
     "metadata": {},
     "output_type": "execute_result"
    }
   ],
   "source": [
    "len(dist)"
   ]
  },
  {
   "cell_type": "code",
   "execution_count": 39,
   "metadata": {},
   "outputs": [],
   "source": [
    "import seaborn as sns\n",
    "import matplotlib.pyplot as plt\n",
    "import numpy as np\n",
    "import pandas as pd\n",
    "\n",
    "from scipy.stats import norm, poisson, uniform, skew, kurtosis, iqr "
   ]
  },
  {
   "cell_type": "code",
   "execution_count": 40,
   "metadata": {},
   "outputs": [
    {
     "data": {
      "image/png": "[encoded data removed]",
      "text/plain": [
       "<Figure size 1440x1080 with 1 Axes>"
      ]
     },
     "metadata": {
      "needs_background": "light"
     },
     "output_type": "display_data"
    }
   ],
   "source": [
    "# Visualize 10 most unique tokens/words exist in the paragraph\n",
    "\n",
    "x = ['data', 'analytics', 'analysis','business','term','bi','advanced','uses','view','exploratory']\n",
    "y = [18,10,6,4,3,2,2,2,2,2]\n",
    "\n",
    "\n",
    "fig, ax = plt.subplots(figsize= (20,15))\n",
    "sns.barplot(x, y)\n",
    "plt.show()"
   ]
  },
  {
   "cell_type": "code",
   "execution_count": null,
   "metadata": {},
   "outputs": [],
   "source": []
  },
  {
   "cell_type": "code",
   "execution_count": 41,
   "metadata": {},
   "outputs": [],
   "source": [
    "# Question 3 (C)"
   ]
  },
  {
   "cell_type": "code",
   "execution_count": 42,
   "metadata": {},
   "outputs": [
    {
     "data": {
      "text/plain": [
       "10"
      ]
     },
     "execution_count": 42,
     "metadata": {},
     "output_type": "execute_result"
    }
   ],
   "source": [
    "# Find and count word 'analytics' in paragraph\n",
    "\n",
    "result31 = re.findall (r'analytics', parag)\n",
    "A= result31.count(\"analytics\")\n",
    "A"
   ]
  },
  {
   "cell_type": "code",
   "execution_count": 43,
   "metadata": {},
   "outputs": [
    {
     "data": {
      "text/plain": [
       "18"
      ]
     },
     "execution_count": 43,
     "metadata": {},
     "output_type": "execute_result"
    }
   ],
   "source": [
    "# Find and count word 'data' in paragraph\n",
    "\n",
    "result32 = re.findall (r'data', parag)\n",
    "D= result32.count(\"data\")\n",
    "D"
   ]
  },
  {
   "cell_type": "code",
   "execution_count": 44,
   "metadata": {},
   "outputs": [
    {
     "data": {
      "text/plain": [
       "6"
      ]
     },
     "execution_count": 44,
     "metadata": {},
     "output_type": "execute_result"
    }
   ],
   "source": [
    "# Find and count word 'data analytics' in paragraph\n",
    "\n",
    "result33 = re.findall (r'data analytics', parag)\n",
    "DA= result33.count(\"data analytics\")\n",
    "DA"
   ]
  },
  {
   "cell_type": "code",
   "execution_count": 45,
   "metadata": {},
   "outputs": [
    {
     "name": "stdout",
     "output_type": "stream",
     "text": [
      "𝑃(𝐴|𝐵)=𝑃(𝐴𝑎𝑛𝑑𝐵)/ 𝑃(𝐵)\n",
      "P('analytics'|'data') = ('data' and 'analytics') / (data) :-\n",
      "\n",
      "P('analytics'|'data') = 6 / 18 = 0.3333333333333333\n"
     ]
    }
   ],
   "source": [
    "# Calculation & Explanation of probability of word 'analytics' after word 'data' in paragraph\n",
    "\n",
    "print(\"𝑃(𝐴|𝐵)=𝑃(𝐴𝑎𝑛𝑑𝐵)/ 𝑃(𝐵)\")\n",
    "\n",
    "print(\"P('analytics'|'data') = ('data' and 'analytics') / (data) :-\")\n",
    "print(\"\")\n",
    "print(f\"P('analytics'|'data') = {DA} / {D} = {DA/D}\")"
   ]
  },
  {
   "cell_type": "code",
   "execution_count": null,
   "metadata": {},
   "outputs": [],
   "source": []
  }
 ],
 "metadata": {
  "kernelspec": {
   "display_name": "Python 3",
   "language": "python",
   "name": "python3"
  },
  "language_info": {
   "codemirror_mode": {
    "name": "ipython",
    "version": 3
   },
   "file_extension": ".py",
   "mimetype": "text/x-python",
   "name": "python",
   "nbconvert_exporter": "python",
   "pygments_lexer": "ipython3",
   "version": "3.7.6"
  }
 },
 "nbformat": 4,
 "nbformat_minor": 4
}
